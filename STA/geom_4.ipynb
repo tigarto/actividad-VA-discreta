{
 "cells": [
  {
   "attachments": {},
   "cell_type": "markdown",
   "metadata": {},
   "source": [
    "## Distribucion geometrica - Ejercicio 4\n",
    "\n",
    "* **Nombre**: Samuel Toro Angarita\n",
    "* **Distribucion**: geometrica\n",
    "* **Punto**: 4\n",
    "\n",
    "### Enunciado ###\n",
    "4. Una empresa de exploración petrolera va a hacer una serie de perforaciones de sondeo \n",
    "en una zona determinada en busca de un pozo productivo. La probabilidad de que tenga \n",
    "éxito en un intento dado es 0.2.\n",
    "\n",
    "a. ¿Cuál es la probabilidad de que la tercera perforación sea la primera en dar un pozo productivo? (Rta: 0.128)\n",
    "\n",
    "b. Si la empresa puede darse el lujo de perforar a lo sumo diez pozos, ¿cuál es la probabilidad de que no encuentre \n",
    "un pozo productivo? (Rta: 0.107)"
   ]
  },
  {
   "cell_type": "code",
   "execution_count": null,
   "metadata": {
    "vscode": {
     "languageId": "plaintext"
    }
   },
   "outputs": [],
   "source": [
    "##codigo"
   ]
  }
 ],
 "metadata": {
  "language_info": {
   "name": "python"
  },
  "orig_nbformat": 4
 },
 "nbformat": 4,
 "nbformat_minor": 2
}
