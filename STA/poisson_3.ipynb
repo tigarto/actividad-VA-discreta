{
 "cells": [
  {
   "attachments": {},
   "cell_type": "markdown",
   "metadata": {},
   "source": [
    "## Distribucion poisson - Ejercicio 3\n",
    "\n",
    "* **Nombre**: Samuel Toro Angarita\n",
    "* **Distribucion**: poisson\n",
    "* **Punto**: 3\n",
    "\n",
    "### Enunciado ###\n",
    "\n",
    "3. El incremento del número de vuelos regionales cortos en aeropuertos importantes ha \n",
    "aumentado la preocupación por la seguridad en el aire. Un aeropuerto de la región \n",
    "este ha registrado un promedio mensual de cinco accidentes a punto de ocurrir en \n",
    "aterrizajes y despegues en los últimos 5 años.\n",
    "\n",
    "a. Encuentre la probabilidad de que durante un mes determinado no haya accidentes \n",
    "a punto de ocurrir en aterrizajes y despegues en el aeropuerto. (Rta: 0.0067)\n",
    "\n",
    "b. Encuentre la probabilidad de que durante un mes determinado haya cinco accidentes \n",
    "a punto de ocurrir. (Rta: 0.1755)\n",
    "\n",
    "c. Encuentre la probabilidad de que haya al menos cinco accidentes a punto de ocurrir \n",
    "durante un mes particular. (Rta: 0.560)"
   ]
  }
 ],
 "metadata": {
  "language_info": {
   "name": "python"
  },
  "orig_nbformat": 4
 },
 "nbformat": 4,
 "nbformat_minor": 2
}
