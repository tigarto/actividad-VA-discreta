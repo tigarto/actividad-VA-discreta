{
 "cells": [
  {
   "attachments": {},
   "cell_type": "markdown",
   "metadata": {},
   "source": [
    "## Distribucion hipergeometrica - Ejercicio 5\n",
    "\n",
    "* **Nombre**: Samuel Toro Angarita\n",
    "* **Distribucion**: hipergeometrica\n",
    "* **Punto**: 4\n",
    "\n",
    "### Enunciado ###\n",
    "\n",
    "5. Una corporación está muestreando sin reemplazo para n = 3 firmas para determinar aquella \n",
    "de la cual comprar ciertos abastecimientos. La muestra se ha de seleccionar de un grupo de \n",
    "seis fi rmas, de las cuales cuatro son locales y dos no. Denote con Y el número de firmas \n",
    "no locales de entre las tres seleccionadas.\n",
    "\n",
    "a. P(Y = 1) (Rta: 0.6)\n",
    "\n",
    "b. P(Y >= 1) (Rta: 0.8)\n",
    "\n",
    "c. P(Y <= 1) (Rta: 0.8)"
   ]
  }
 ],
 "metadata": {
  "language_info": {
   "name": "python"
  },
  "orig_nbformat": 4
 },
 "nbformat": 4,
 "nbformat_minor": 2
}
