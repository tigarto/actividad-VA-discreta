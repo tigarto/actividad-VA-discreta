{
 "cells": [
  {
   "attachments": {},
   "cell_type": "markdown",
   "metadata": {},
   "source": [
    "## Distribucion binomial - Ejercicio 2\n",
    "\n",
    "* **Nombre**: Samuel Toro Angarita\n",
    "* **Distribucion**: binomial\n",
    "* **Punto**: 2\n",
    "\n",
    "### Enunciado ###\n",
    "2. El sistema de seguridad de una casa está diseñado para tener un 99% de confiabilidad. Suponga que nueve casas equipadas con este sistema experimentan un intento de robo. Encuentre las probabilidades de estos eventos:\n",
    "   <ol style=\"list-style-type: lower-alpha\">\n",
    "   <li>Al menos una de las alarmas se activó. (<b>Rta</b>: 1) </li>\n",
    "   <li>Más de siete de las alarmas se activaron  (<b>Rta</b>: 0.997)</li>\n",
    "   <li>Ocho o menos alarmas se activaron   (<b>Rta</b>: 0.086)</li>\n",
    "   </ol>"
   ]
  },
  {
   "cell_type": "code",
   "execution_count": null,
   "metadata": {
    "vscode": {
     "languageId": "plaintext"
    }
   },
   "outputs": [],
   "source": [
    "#codigo"
   ]
  }
 ],
 "metadata": {
  "language_info": {
   "name": "python"
  },
  "orig_nbformat": 4
 },
 "nbformat": 4,
 "nbformat_minor": 2
}
