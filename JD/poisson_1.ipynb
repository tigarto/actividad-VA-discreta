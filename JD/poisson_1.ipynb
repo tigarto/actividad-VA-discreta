{
 "cells": [
  {
   "attachments": {},
   "cell_type": "markdown",
   "metadata": {},
   "source": [
    "## Distribucion Poisson - Ejercicio 1 \n",
    "\n",
    "* **Nombre**: Juan Diego Taborda Roldán\n",
    "* **Distribucion**: Poisson\n",
    "* **Punto**: 1\n",
    "\n",
    "## Enunciado ##\n",
    "1. El número de errores mecanográficos hechos por una secretaria tiene una distribución de Poisson con\n",
    "un promedio de cuatro errores por página. Si en una página se dan más de cuatro errores, la secretaria\n",
    "debe volver a escribir toda la página. ¿Cuál es la probabilidad de que una página seleccionada al azar no\n",
    "tenga que volver a ser escrita? (**Rta**: 0.6288))"
   ]
  },
  {
   "cell_type": "code",
   "execution_count": 7,
   "metadata": {},
   "outputs": [],
   "source": [
    "# Code...\n",
    "import scipy.stats as stats\n",
    "import numpy as np\n",
    "import matplotlib.pyplot as plt\n",
    "import pandas as pd"
   ]
  },
  {
   "cell_type": "code",
   "execution_count": 6,
   "metadata": {},
   "outputs": [
    {
     "name": "stdout",
     "output_type": "stream",
     "text": [
      "P(X<=4) = 0.628837\n"
     ]
    }
   ],
   "source": [
    "\"\"\"\n",
    "Definición de la VA Poisson: X ~ Poisson(alpha)\n",
    "\n",
    "X: Numero de errores en una pagina\n",
    "\n",
    "# Parametros\n",
    "a = 4 (alpha)\n",
    "\"\"\"\n",
    "\n",
    "a = 4\n",
    "X = stats.poisson(a) # Variable aleatoria hipergeometrica\n",
    "\n",
    "# P(X<=4)\n",
    "P_4= X.pmf(k = 0) + X.pmf(k = 1) + X.pmf(k = 2) + X.pmf(k = 3) + X.pmf(k = 4)\n",
    "print(\"P(X<=4) = {0:2f}\".format(P_4))"
   ]
  }
 ],
 "metadata": {
  "kernelspec": {
   "display_name": "Python 3",
   "language": "python",
   "name": "python3"
  },
  "language_info": {
   "codemirror_mode": {
    "name": "ipython",
    "version": 3
   },
   "file_extension": ".py",
   "mimetype": "text/x-python",
   "name": "python",
   "nbconvert_exporter": "python",
   "pygments_lexer": "ipython3",
   "version": "3.10.9"
  },
  "orig_nbformat": 4,
  "vscode": {
   "interpreter": {
    "hash": "26de051ba29f2982a8de78e945f0abaf191376122a1563185a90213a26c5da77"
   }
  }
 },
 "nbformat": 4,
 "nbformat_minor": 2
}
