{
 "cells": [
  {
   "attachments": {},
   "cell_type": "markdown",
   "metadata": {},
   "source": [
    "## Distribucion binomial - Ejercicio 6 \n",
    "\n",
    "* **Nombre**: Juan Diego Taborda Roldan\n",
    "* **Distribucion**: Geometrica\n",
    "* **Punto**: 5\n",
    "\n",
    "### Enunciado ###\n",
    "5. Suponga que 30% de los solicitantes para cierto trabajo industrial posee capacitación avanzada en programación computacional. Los candidatos son elegidos aleatoriamente entre la población y entrevistados en forma sucesiva. \n",
    "   <ol style=\"list-style-type: lower-alpha\">\n",
    "   <li>Encuentre la probabilidad de que el primer solicitante con capacitación avanzada en programación se encuentre en la quinta entrevista. (<b>Rta</b>: 0.07203) </li>\n",
    "   <li>¿Cuál es el número esperado de solicitantes que será necesario entrevistar para hallar el primero con capacitación avanzada? (<b>Rta</b>: 3.33)</li>\n",
    "   </ol>"
   ]
  },
  {
   "cell_type": "code",
   "execution_count": 1,
   "metadata": {},
   "outputs": [],
   "source": [
    "# Code...\n",
    "import scipy.stats as stats\n",
    "import numpy as np\n",
    "import matplotlib.pyplot as plt\n",
    "import pandas as pd"
   ]
  }
 ],
 "metadata": {
  "kernelspec": {
   "display_name": "Python 3",
   "language": "python",
   "name": "python3"
  },
  "language_info": {
   "codemirror_mode": {
    "name": "ipython",
    "version": 3
   },
   "file_extension": ".py",
   "mimetype": "text/x-python",
   "name": "python",
   "nbconvert_exporter": "python",
   "pygments_lexer": "ipython3",
   "version": "3.10.9"
  },
  "orig_nbformat": 4,
  "vscode": {
   "interpreter": {
    "hash": "26de051ba29f2982a8de78e945f0abaf191376122a1563185a90213a26c5da77"
   }
  }
 },
 "nbformat": 4,
 "nbformat_minor": 2
}
