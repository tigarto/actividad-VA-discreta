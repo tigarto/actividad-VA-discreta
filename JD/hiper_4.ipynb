{
 "cells": [
  {
   "attachments": {},
   "cell_type": "markdown",
   "metadata": {},
   "source": [
    "## Distribucion hipergeometrica - Ejercicio 4\n",
    "\n",
    "* **Nombre**: Juan Diego Taborda Roldán\n",
    "* **Distribucion**: Hipergeometrica\n",
    "* **Punto**: 4\n",
    "\n",
    "## Enunciado ##\n",
    "4. Se capturaron, etiquetaron y liberaron cinco individuos de una población de animales que se piensa están al borde la extinción en una región para que se mezclen con la población. Después de haber tenido la oportunidad de mezclarse, se selecciona una muestra aleatoria de 10 de estos animales. Sea **X = el número de animales etiquetados en la segunda muestra**. Si en realidad hay 25 animales de este tipo en la región, ¿cuál es la probabilidad de que:\n",
    "   <ol style=\"list-style-type: lower-alpha\">\n",
    "   <li>El numero de animales etiquetados en la segunda muestra sea de dos(<b>Rta</b>: 0.385) </li>\n",
    "   <li>El numero de animales etiquetados en la segunda muestra no supere los dos (<b>Rta</b>: 0.699)</li>\n",
    "   <li>Calcule la media y la varianza del problrma (<b>Media</b>: 2.0; <b>Varianza</b>: 1.0)</li>\n",
    "   </ol>"
   ]
  },
  {
   "cell_type": "code",
   "execution_count": 3,
   "metadata": {},
   "outputs": [],
   "source": [
    "# Code...\n",
    "import scipy.stats as stats\n",
    "import numpy as np\n",
    "import matplotlib.pyplot as plt\n",
    "import pandas as pd"
   ]
  },
  {
   "cell_type": "code",
   "execution_count": 72,
   "metadata": {},
   "outputs": [
    {
     "name": "stdout",
     "output_type": "stream",
     "text": [
      "a. El numero de animales etiquetados en la segunda muestra sea de dos\n",
      "P(X=2) = 0.385 \n",
      "\n",
      "b. El numero de animales etiquetados en la segunda muestra no supere los dos\n",
      "P(X=2) = 0.699 \n",
      "\n",
      "c. Calcule la media y la varianza\n",
      "- Media: E(X) = 2.0\n",
      "- Varianza: Var(X) = 1.0\n"
     ]
    }
   ],
   "source": [
    "\"\"\"\n",
    "Definición de la VA hipergeometrica: X ~ H(r,b,n)\n",
    "\n",
    "X: el número de animales etiquetados en la segunda muestra\n",
    "\"\"\"\n",
    "\n",
    "r = 5   # n (exitos)\n",
    "b = 20\n",
    "n = 10  # N (muestra)\n",
    "        # M = r + b (Total)\n",
    "\n",
    "X = stats.hypergeom(N = n, n = r, M = r + b) # Variable aleatoria hipergeometrica\n",
    "x = np.arange(6) # Rango de la VA\n",
    "\n",
    "pmf = X.pmf(x)\n",
    "df = pd.DataFrame({\"x\": x,\"pmf\": pmf},columns=[\"x\",\"pmf\"], index = x)\n",
    "\n",
    "print(\"a. El numero de animales etiquetados en la segunda muestra sea de dos\")\n",
    "#P(X=2)\n",
    "p_2 = df[df[\"x\"] == 2]\n",
    "print(\"P(X=2) = {0:0.3f}\".format(df.loc[2, 'pmf']), \"\\n\")\n",
    "\n",
    "print(\"b. El numero de animales etiquetados en la segunda muestra no supere los dos\")\n",
    "p_x2 = df.loc[0, 'pmf'] + df.loc[1, 'pmf'] + df.loc[2, 'pmf']\n",
    "print(\"P(X=2) = {0:0.3f}\".format(p_x2), \"\\n\")\n",
    "\n",
    "print(\"c. Calcule la media y la varianza\")\n",
    "E = X.mean()      \n",
    "V = X.var()     \n",
    "\n",
    "print(\"- Media: E(X) = {0:0.1f}\".format(E))\n",
    "print(\"- Varianza: Var(X) = {0:0.1f}\".format(V))"
   ]
  },
  {
   "cell_type": "code",
   "execution_count": null,
   "metadata": {},
   "outputs": [],
   "source": []
  }
 ],
 "metadata": {
  "kernelspec": {
   "display_name": "Python 3",
   "language": "python",
   "name": "python3"
  },
  "language_info": {
   "codemirror_mode": {
    "name": "ipython",
    "version": 3
   },
   "file_extension": ".py",
   "mimetype": "text/x-python",
   "name": "python",
   "nbconvert_exporter": "python",
   "pygments_lexer": "ipython3",
   "version": "3.10.9"
  },
  "orig_nbformat": 4,
  "vscode": {
   "interpreter": {
    "hash": "26de051ba29f2982a8de78e945f0abaf191376122a1563185a90213a26c5da77"
   }
  }
 },
 "nbformat": 4,
 "nbformat_minor": 2
}
