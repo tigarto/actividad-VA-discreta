{
 "cells": [
  {
   "attachments": {},
   "cell_type": "markdown",
   "metadata": {},
   "source": [
    "## Distribucion binomial - Ejercicio 2\n",
    "\n",
    "* **Nombre**: Juan Diego Taborda Roldán\n",
    "* **Distribucion**: binomial\n",
    "* **Punto**: 2\n",
    "\n",
    "### Enunciado ###\n",
    "2. El sistema de seguridad de una casa está diseñado para tener un 99% de confiabilidad. Suponga que nueve casas equipadas con este sistema experimentan un intento de robo. Encuentre las probabilidades de estos eventos:\n",
    "   <ol style=\"list-style-type: lower-alpha\">\n",
    "   <li>Al menos una de las alarmas se activó. (<b>Rta</b>: 1) </li>\n",
    "   <li>Más de siete de las alarmas se activaron  (<b>Rta</b>: 0.997)</li>\n",
    "   <li>Ocho o menos alarmas se activaron   (<b>Rta</b>: 0.086)</li>\n",
    "   </ol>\n"
   ]
  },
  {
   "cell_type": "code",
   "execution_count": 1,
   "metadata": {},
   "outputs": [],
   "source": [
    "# Code...\n",
    "import scipy.stats as stats\n",
    "import numpy as np\n",
    "import matplotlib.pyplot as plt\n",
    "import pandas as pd"
   ]
  },
  {
   "cell_type": "code",
   "execution_count": 20,
   "metadata": {},
   "outputs": [
    {
     "name": "stdout",
     "output_type": "stream",
     "text": [
      "Almenos una de las alarmas se activo\n",
      "P(X>=1) = 1.0 \n",
      "\n",
      "Mas de las siete alarmas se activaron\n",
      "P(X>7) = 0.99656 \n",
      "\n",
      "Ocho o menos de las alarmas se activaron\n",
      "P(X>7) = 0.08648 \n",
      "\n"
     ]
    }
   ],
   "source": [
    "n = 9\n",
    "p = 0.99\n",
    "X = stats.binom(n, p)\n",
    "\n",
    "print(\"Almenos una de las alarmas se activo\")\n",
    "# P(X >= 1) = 1-P(X =0)\n",
    "p_1 = 1 - X.pmf(0)\n",
    "print(\"P(X>=1) = {0:0.1f}\".format(p_1), \"\\n\")\n",
    "\n",
    "print(\"Mas de las siete alarmas se activaron\")\n",
    "# P(X > 7) = 1 - P(X<=7) = 1 - P(X=0) + P(X=1) + P(X=2) + P(X=3) + P(X=4) + P(X=5) + P(X=6) + P(X=7) \n",
    "p_7 = 1 - (X.pmf(0) + X.pmf(1) + X.pmf(2) + X.pmf(3) + X.pmf(4) + X.pmf(5) + X.pmf(6) + X.pmf(7))\n",
    "print(\"P(X>7) = {0:0.5f}\".format(p_7), \"\\n\")\n",
    "\n",
    "print(\"Ocho o menos de las alarmas se activaron\")\n",
    "# P(X <= 8) = P(X=0) + P(X=1) + P(X=2) + P(X=3) + P(X=4) + P(X=5) + P(X=6) + P(X=7) + P(X=8) \n",
    "p_8 = X.pmf(0) + X.pmf(1) + X.pmf(2) + X.pmf(3) + X.pmf(4) + X.pmf(5) + X.pmf(6) + X.pmf(7) + X.pmf(8)\n",
    "print(\"P(X>7) = {0:0.5f}\".format(p_8), \"\\n\")"
   ]
  }
 ],
 "metadata": {
  "kernelspec": {
   "display_name": "Python 3",
   "language": "python",
   "name": "python3"
  },
  "language_info": {
   "codemirror_mode": {
    "name": "ipython",
    "version": 3
   },
   "file_extension": ".py",
   "mimetype": "text/x-python",
   "name": "python",
   "nbconvert_exporter": "python",
   "pygments_lexer": "ipython3",
   "version": "3.10.9"
  },
  "orig_nbformat": 4,
  "vscode": {
   "interpreter": {
    "hash": "26de051ba29f2982a8de78e945f0abaf191376122a1563185a90213a26c5da77"
   }
  }
 },
 "nbformat": 4,
 "nbformat_minor": 2
}
